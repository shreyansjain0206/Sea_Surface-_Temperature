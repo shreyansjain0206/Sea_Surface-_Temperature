{
 "cells": [
  {
   "cell_type": "code",
   "execution_count": 2,
   "id": "fadfc292",
   "metadata": {},
   "outputs": [],
   "source": [
    "import pandas as pd"
   ]
  },
  {
   "cell_type": "code",
   "execution_count": 3,
   "id": "82cfcb0d",
   "metadata": {},
   "outputs": [
    {
     "data": {
      "text/html": [
       "<div>\n",
       "<style scoped>\n",
       "    .dataframe tbody tr th:only-of-type {\n",
       "        vertical-align: middle;\n",
       "    }\n",
       "\n",
       "    .dataframe tbody tr th {\n",
       "        vertical-align: top;\n",
       "    }\n",
       "\n",
       "    .dataframe thead th {\n",
       "        text-align: right;\n",
       "    }\n",
       "</style>\n",
       "<table border=\"1\" class=\"dataframe\">\n",
       "  <thead>\n",
       "    <tr style=\"text-align: right;\">\n",
       "      <th></th>\n",
       "      <th>Observation</th>\n",
       "      <th>Year</th>\n",
       "      <th>Month</th>\n",
       "      <th>Day</th>\n",
       "      <th>Date</th>\n",
       "      <th>Latitude</th>\n",
       "      <th>Longitude</th>\n",
       "      <th>Zonal Winds</th>\n",
       "      <th>Meridional Winds</th>\n",
       "      <th>Humidity</th>\n",
       "      <th>Air Temp</th>\n",
       "      <th>Sea Surface Temp</th>\n",
       "    </tr>\n",
       "  </thead>\n",
       "  <tbody>\n",
       "    <tr>\n",
       "      <th>0</th>\n",
       "      <td>1</td>\n",
       "      <td>80</td>\n",
       "      <td>3</td>\n",
       "      <td>7</td>\n",
       "      <td>800307</td>\n",
       "      <td>-0.02</td>\n",
       "      <td>-109.46</td>\n",
       "      <td>-6.8</td>\n",
       "      <td>0.7</td>\n",
       "      <td>.</td>\n",
       "      <td>26.14</td>\n",
       "      <td>26.24</td>\n",
       "    </tr>\n",
       "    <tr>\n",
       "      <th>1</th>\n",
       "      <td>2</td>\n",
       "      <td>80</td>\n",
       "      <td>3</td>\n",
       "      <td>8</td>\n",
       "      <td>800308</td>\n",
       "      <td>-0.02</td>\n",
       "      <td>-109.46</td>\n",
       "      <td>-4.9</td>\n",
       "      <td>1.1</td>\n",
       "      <td>.</td>\n",
       "      <td>25.66</td>\n",
       "      <td>25.97</td>\n",
       "    </tr>\n",
       "    <tr>\n",
       "      <th>2</th>\n",
       "      <td>3</td>\n",
       "      <td>80</td>\n",
       "      <td>3</td>\n",
       "      <td>9</td>\n",
       "      <td>800309</td>\n",
       "      <td>-0.02</td>\n",
       "      <td>-109.46</td>\n",
       "      <td>-4.5</td>\n",
       "      <td>2.2</td>\n",
       "      <td>.</td>\n",
       "      <td>25.69</td>\n",
       "      <td>25.28</td>\n",
       "    </tr>\n",
       "    <tr>\n",
       "      <th>3</th>\n",
       "      <td>4</td>\n",
       "      <td>80</td>\n",
       "      <td>3</td>\n",
       "      <td>10</td>\n",
       "      <td>800310</td>\n",
       "      <td>-0.02</td>\n",
       "      <td>-109.46</td>\n",
       "      <td>-3.8</td>\n",
       "      <td>1.9</td>\n",
       "      <td>.</td>\n",
       "      <td>25.57</td>\n",
       "      <td>24.31</td>\n",
       "    </tr>\n",
       "    <tr>\n",
       "      <th>4</th>\n",
       "      <td>5</td>\n",
       "      <td>80</td>\n",
       "      <td>3</td>\n",
       "      <td>11</td>\n",
       "      <td>800311</td>\n",
       "      <td>-0.02</td>\n",
       "      <td>-109.46</td>\n",
       "      <td>-4.2</td>\n",
       "      <td>1.5</td>\n",
       "      <td>.</td>\n",
       "      <td>25.3</td>\n",
       "      <td>23.19</td>\n",
       "    </tr>\n",
       "    <tr>\n",
       "      <th>...</th>\n",
       "      <td>...</td>\n",
       "      <td>...</td>\n",
       "      <td>...</td>\n",
       "      <td>...</td>\n",
       "      <td>...</td>\n",
       "      <td>...</td>\n",
       "      <td>...</td>\n",
       "      <td>...</td>\n",
       "      <td>...</td>\n",
       "      <td>...</td>\n",
       "      <td>...</td>\n",
       "      <td>...</td>\n",
       "    </tr>\n",
       "    <tr>\n",
       "      <th>178075</th>\n",
       "      <td>178076</td>\n",
       "      <td>98</td>\n",
       "      <td>6</td>\n",
       "      <td>11</td>\n",
       "      <td>980611</td>\n",
       "      <td>8.96</td>\n",
       "      <td>-140.33</td>\n",
       "      <td>-5.1</td>\n",
       "      <td>-0.4</td>\n",
       "      <td>94.1</td>\n",
       "      <td>26.04</td>\n",
       "      <td>28.14</td>\n",
       "    </tr>\n",
       "    <tr>\n",
       "      <th>178076</th>\n",
       "      <td>178077</td>\n",
       "      <td>98</td>\n",
       "      <td>6</td>\n",
       "      <td>12</td>\n",
       "      <td>980612</td>\n",
       "      <td>8.96</td>\n",
       "      <td>-140.32</td>\n",
       "      <td>-4.3</td>\n",
       "      <td>-3.3</td>\n",
       "      <td>93.2</td>\n",
       "      <td>25.8</td>\n",
       "      <td>27.87</td>\n",
       "    </tr>\n",
       "    <tr>\n",
       "      <th>178077</th>\n",
       "      <td>178078</td>\n",
       "      <td>98</td>\n",
       "      <td>6</td>\n",
       "      <td>13</td>\n",
       "      <td>980613</td>\n",
       "      <td>8.95</td>\n",
       "      <td>-140.34</td>\n",
       "      <td>-6.1</td>\n",
       "      <td>-4.8</td>\n",
       "      <td>81.3</td>\n",
       "      <td>27.17</td>\n",
       "      <td>27.93</td>\n",
       "    </tr>\n",
       "    <tr>\n",
       "      <th>178078</th>\n",
       "      <td>178079</td>\n",
       "      <td>98</td>\n",
       "      <td>6</td>\n",
       "      <td>14</td>\n",
       "      <td>980614</td>\n",
       "      <td>8.96</td>\n",
       "      <td>-140.33</td>\n",
       "      <td>-4.9</td>\n",
       "      <td>-2.3</td>\n",
       "      <td>76.2</td>\n",
       "      <td>27.36</td>\n",
       "      <td>28.03</td>\n",
       "    </tr>\n",
       "    <tr>\n",
       "      <th>178079</th>\n",
       "      <td>178080</td>\n",
       "      <td>98</td>\n",
       "      <td>6</td>\n",
       "      <td>15</td>\n",
       "      <td>980615</td>\n",
       "      <td>8.95</td>\n",
       "      <td>-140.33</td>\n",
       "      <td>.</td>\n",
       "      <td>.</td>\n",
       "      <td>.</td>\n",
       "      <td>27.09</td>\n",
       "      <td>28.09</td>\n",
       "    </tr>\n",
       "  </tbody>\n",
       "</table>\n",
       "<p>178080 rows × 12 columns</p>\n",
       "</div>"
      ],
      "text/plain": [
       "        Observation   Year   Month   Day    Date   Latitude   Longitude  \\\n",
       "0                 1     80       3     7  800307      -0.02     -109.46   \n",
       "1                 2     80       3     8  800308      -0.02     -109.46   \n",
       "2                 3     80       3     9  800309      -0.02     -109.46   \n",
       "3                 4     80       3    10  800310      -0.02     -109.46   \n",
       "4                 5     80       3    11  800311      -0.02     -109.46   \n",
       "...             ...    ...     ...   ...     ...        ...         ...   \n",
       "178075       178076     98       6    11  980611       8.96     -140.33   \n",
       "178076       178077     98       6    12  980612       8.96     -140.32   \n",
       "178077       178078     98       6    13  980613       8.95     -140.34   \n",
       "178078       178079     98       6    14  980614       8.96     -140.33   \n",
       "178079       178080     98       6    15  980615       8.95     -140.33   \n",
       "\n",
       "        Zonal Winds  Meridional Winds  Humidity  Air Temp  Sea Surface Temp  \n",
       "0              -6.8               0.7         .     26.14             26.24  \n",
       "1              -4.9               1.1         .     25.66             25.97  \n",
       "2              -4.5               2.2         .     25.69             25.28  \n",
       "3              -3.8               1.9         .     25.57             24.31  \n",
       "4              -4.2               1.5         .      25.3             23.19  \n",
       "...             ...               ...       ...       ...               ...  \n",
       "178075         -5.1              -0.4      94.1     26.04             28.14  \n",
       "178076         -4.3              -3.3      93.2      25.8             27.87  \n",
       "178077         -6.1              -4.8      81.3     27.17             27.93  \n",
       "178078         -4.9              -2.3      76.2     27.36             28.03  \n",
       "178079            .                 .         .     27.09             28.09  \n",
       "\n",
       "[178080 rows x 12 columns]"
      ]
     },
     "execution_count": 3,
     "metadata": {},
     "output_type": "execute_result"
    }
   ],
   "source": [
    "df=pd.read_csv('elnino.csv')\n",
    "df"
   ]
  },
  {
   "cell_type": "code",
   "execution_count": 4,
   "id": "b3b79746",
   "metadata": {},
   "outputs": [
    {
     "data": {
      "text/plain": [
       "Index(['Observation', ' Year', ' Month', ' Day', ' Date', ' Latitude',\n",
       "       ' Longitude', ' Zonal Winds', ' Meridional Winds', ' Humidity',\n",
       "       ' Air Temp', ' Sea Surface Temp'],\n",
       "      dtype='object')"
      ]
     },
     "execution_count": 4,
     "metadata": {},
     "output_type": "execute_result"
    }
   ],
   "source": [
    "df.columns"
   ]
  },
  {
   "cell_type": "code",
   "execution_count": 5,
   "id": "1ad85af3",
   "metadata": {},
   "outputs": [
    {
     "data": {
      "text/plain": [
       "Observation            int64\n",
       " Year                  int64\n",
       " Month                 int64\n",
       " Day                   int64\n",
       " Date                  int64\n",
       " Latitude            float64\n",
       " Longitude           float64\n",
       " Zonal Winds          object\n",
       " Meridional Winds     object\n",
       " Humidity             object\n",
       " Air Temp             object\n",
       " Sea Surface Temp     object\n",
       "dtype: object"
      ]
     },
     "execution_count": 5,
     "metadata": {},
     "output_type": "execute_result"
    }
   ],
   "source": [
    "df.dtypes"
   ]
  },
  {
   "cell_type": "code",
   "execution_count": 6,
   "id": "de3e049f",
   "metadata": {},
   "outputs": [],
   "source": [
    "df.dropna(inplace=True)"
   ]
  },
  {
   "cell_type": "code",
   "execution_count": 7,
   "id": "9996e8db",
   "metadata": {},
   "outputs": [
    {
     "data": {
      "text/plain": [
       "Observation          0\n",
       " Year                0\n",
       " Month               0\n",
       " Day                 0\n",
       " Date                0\n",
       " Latitude            0\n",
       " Longitude           0\n",
       " Zonal Winds         0\n",
       " Meridional Winds    0\n",
       " Humidity            0\n",
       " Air Temp            0\n",
       " Sea Surface Temp    0\n",
       "dtype: int64"
      ]
     },
     "execution_count": 7,
     "metadata": {},
     "output_type": "execute_result"
    }
   ],
   "source": [
    "df.isna().sum()"
   ]
  },
  {
   "cell_type": "code",
   "execution_count": 8,
   "id": "691f81b6",
   "metadata": {},
   "outputs": [
    {
     "name": "stdout",
     "output_type": "stream",
     "text": [
      "<class 'pandas.core.frame.DataFrame'>\n",
      "RangeIndex: 178080 entries, 0 to 178079\n",
      "Data columns (total 12 columns):\n",
      " #   Column             Non-Null Count   Dtype  \n",
      "---  ------             --------------   -----  \n",
      " 0   Observation        178080 non-null  int64  \n",
      " 1    Year              178080 non-null  int64  \n",
      " 2    Month             178080 non-null  int64  \n",
      " 3    Day               178080 non-null  int64  \n",
      " 4    Date              178080 non-null  int64  \n",
      " 5    Latitude          178080 non-null  float64\n",
      " 6    Longitude         178080 non-null  float64\n",
      " 7    Zonal Winds       178080 non-null  object \n",
      " 8    Meridional Winds  178080 non-null  object \n",
      " 9    Humidity          178080 non-null  object \n",
      " 10   Air Temp          178080 non-null  object \n",
      " 11   Sea Surface Temp  178080 non-null  object \n",
      "dtypes: float64(2), int64(5), object(5)\n",
      "memory usage: 16.3+ MB\n"
     ]
    }
   ],
   "source": [
    "df.info()"
   ]
  },
  {
   "cell_type": "code",
   "execution_count": 9,
   "id": "10e849e8",
   "metadata": {},
   "outputs": [
    {
     "data": {
      "text/html": [
       "<div>\n",
       "<style scoped>\n",
       "    .dataframe tbody tr th:only-of-type {\n",
       "        vertical-align: middle;\n",
       "    }\n",
       "\n",
       "    .dataframe tbody tr th {\n",
       "        vertical-align: top;\n",
       "    }\n",
       "\n",
       "    .dataframe thead th {\n",
       "        text-align: right;\n",
       "    }\n",
       "</style>\n",
       "<table border=\"1\" class=\"dataframe\">\n",
       "  <thead>\n",
       "    <tr style=\"text-align: right;\">\n",
       "      <th></th>\n",
       "      <th>Observation</th>\n",
       "      <th>Year</th>\n",
       "      <th>Month</th>\n",
       "      <th>Day</th>\n",
       "      <th>Date</th>\n",
       "      <th>Latitude</th>\n",
       "      <th>Longitude</th>\n",
       "    </tr>\n",
       "  </thead>\n",
       "  <tbody>\n",
       "    <tr>\n",
       "      <th>count</th>\n",
       "      <td>178080.000000</td>\n",
       "      <td>178080.000000</td>\n",
       "      <td>178080.000000</td>\n",
       "      <td>178080.000000</td>\n",
       "      <td>178080.000000</td>\n",
       "      <td>178080.000000</td>\n",
       "      <td>178080.000000</td>\n",
       "    </tr>\n",
       "    <tr>\n",
       "      <th>mean</th>\n",
       "      <td>89040.500000</td>\n",
       "      <td>93.302325</td>\n",
       "      <td>6.504869</td>\n",
       "      <td>15.720536</td>\n",
       "      <td>933689.455374</td>\n",
       "      <td>0.473626</td>\n",
       "      <td>-54.025233</td>\n",
       "    </tr>\n",
       "    <tr>\n",
       "      <th>std</th>\n",
       "      <td>51407.412306</td>\n",
       "      <td>3.393818</td>\n",
       "      <td>3.459657</td>\n",
       "      <td>8.800487</td>\n",
       "      <td>33900.474320</td>\n",
       "      <td>4.583041</td>\n",
       "      <td>135.363994</td>\n",
       "    </tr>\n",
       "    <tr>\n",
       "      <th>min</th>\n",
       "      <td>1.000000</td>\n",
       "      <td>80.000000</td>\n",
       "      <td>1.000000</td>\n",
       "      <td>1.000000</td>\n",
       "      <td>800307.000000</td>\n",
       "      <td>-8.810000</td>\n",
       "      <td>-180.000000</td>\n",
       "    </tr>\n",
       "    <tr>\n",
       "      <th>25%</th>\n",
       "      <td>44520.750000</td>\n",
       "      <td>92.000000</td>\n",
       "      <td>4.000000</td>\n",
       "      <td>8.000000</td>\n",
       "      <td>920116.000000</td>\n",
       "      <td>-2.010000</td>\n",
       "      <td>-154.950000</td>\n",
       "    </tr>\n",
       "    <tr>\n",
       "      <th>50%</th>\n",
       "      <td>89040.500000</td>\n",
       "      <td>94.000000</td>\n",
       "      <td>6.000000</td>\n",
       "      <td>16.000000</td>\n",
       "      <td>940601.000000</td>\n",
       "      <td>0.010000</td>\n",
       "      <td>-111.260000</td>\n",
       "    </tr>\n",
       "    <tr>\n",
       "      <th>75%</th>\n",
       "      <td>133560.250000</td>\n",
       "      <td>96.000000</td>\n",
       "      <td>10.000000</td>\n",
       "      <td>23.000000</td>\n",
       "      <td>960617.000000</td>\n",
       "      <td>4.980000</td>\n",
       "      <td>147.010000</td>\n",
       "    </tr>\n",
       "    <tr>\n",
       "      <th>max</th>\n",
       "      <td>178080.000000</td>\n",
       "      <td>98.000000</td>\n",
       "      <td>12.000000</td>\n",
       "      <td>31.000000</td>\n",
       "      <td>980623.000000</td>\n",
       "      <td>9.050000</td>\n",
       "      <td>171.080000</td>\n",
       "    </tr>\n",
       "  </tbody>\n",
       "</table>\n",
       "</div>"
      ],
      "text/plain": [
       "         Observation           Year          Month            Day  \\\n",
       "count  178080.000000  178080.000000  178080.000000  178080.000000   \n",
       "mean    89040.500000      93.302325       6.504869      15.720536   \n",
       "std     51407.412306       3.393818       3.459657       8.800487   \n",
       "min         1.000000      80.000000       1.000000       1.000000   \n",
       "25%     44520.750000      92.000000       4.000000       8.000000   \n",
       "50%     89040.500000      94.000000       6.000000      16.000000   \n",
       "75%    133560.250000      96.000000      10.000000      23.000000   \n",
       "max    178080.000000      98.000000      12.000000      31.000000   \n",
       "\n",
       "                Date       Latitude      Longitude  \n",
       "count  178080.000000  178080.000000  178080.000000  \n",
       "mean   933689.455374       0.473626     -54.025233  \n",
       "std     33900.474320       4.583041     135.363994  \n",
       "min    800307.000000      -8.810000    -180.000000  \n",
       "25%    920116.000000      -2.010000    -154.950000  \n",
       "50%    940601.000000       0.010000    -111.260000  \n",
       "75%    960617.000000       4.980000     147.010000  \n",
       "max    980623.000000       9.050000     171.080000  "
      ]
     },
     "execution_count": 9,
     "metadata": {},
     "output_type": "execute_result"
    }
   ],
   "source": [
    "df.describe()"
   ]
  },
  {
   "cell_type": "code",
   "execution_count": 10,
   "id": "be776a44",
   "metadata": {},
   "outputs": [
    {
     "data": {
      "text/plain": [
       "Observation            int64\n",
       " Year                  int64\n",
       " Month                 int64\n",
       " Day                   int64\n",
       " Date                  int64\n",
       " Latitude            float64\n",
       " Longitude           float64\n",
       " Zonal Winds          object\n",
       " Meridional Winds     object\n",
       " Humidity             object\n",
       " Air Temp             object\n",
       " Sea Surface Temp     object\n",
       "dtype: object"
      ]
     },
     "execution_count": 10,
     "metadata": {},
     "output_type": "execute_result"
    }
   ],
   "source": [
    "df.dtypes"
   ]
  },
  {
   "cell_type": "code",
   "execution_count": 11,
   "id": "e03d6a99",
   "metadata": {},
   "outputs": [],
   "source": [
    "names = list(df.columns)\n",
    "for i in range(0,12):\n",
    "    names[i] = names[i].lstrip()\n",
    "df.columns = names\n"
   ]
  },
  {
   "cell_type": "code",
   "execution_count": 12,
   "id": "f5010a8e",
   "metadata": {},
   "outputs": [],
   "source": [
    "df['Zonal Winds'] = pd.to_numeric(df['Zonal Winds'], errors='coerce')\n",
    "df['Meridional Winds'] = pd.to_numeric(df['Meridional Winds'], errors='coerce')\n",
    "df['Humidity'] = pd.to_numeric(df['Humidity'], errors='coerce')\n",
    "df['Air Temp'] = pd.to_numeric(df['Air Temp'], errors='coerce')\n",
    "df['Sea Surface Temp'] = pd.to_numeric(df['Sea Surface Temp'], errors='coerce')\n"
   ]
  },
  {
   "cell_type": "code",
   "execution_count": 13,
   "id": "86e34405",
   "metadata": {},
   "outputs": [
    {
     "name": "stdout",
     "output_type": "stream",
     "text": [
      "Zonal Winds         25163\n",
      "Meridional Winds    25162\n",
      "Humidity            65761\n",
      "Air Temp            18237\n",
      "Sea Surface Temp    17007\n",
      "dtype: int64\n"
     ]
    }
   ],
   "source": [
    "nan_counts = df[['Zonal Winds', 'Meridional Winds', 'Humidity', 'Air Temp', 'Sea Surface Temp']].isnull().sum()\n",
    "print(nan_counts)\n"
   ]
  },
  {
   "cell_type": "code",
   "execution_count": 14,
   "id": "8a3d1fa1",
   "metadata": {},
   "outputs": [
    {
     "data": {
      "text/plain": [
       "(178080, 12)"
      ]
     },
     "execution_count": 14,
     "metadata": {},
     "output_type": "execute_result"
    }
   ],
   "source": [
    "df.shape"
   ]
  },
  {
   "cell_type": "code",
   "execution_count": 15,
   "id": "57a45d2e",
   "metadata": {},
   "outputs": [],
   "source": [
    "columns_to_check = ['Zonal Winds', 'Meridional Winds', 'Humidity', 'Air Temp', 'Sea Surface Temp']\n",
    "df.dropna(subset=columns_to_check, inplace=True)\n"
   ]
  },
  {
   "cell_type": "code",
   "execution_count": 16,
   "id": "c48d9c8e",
   "metadata": {},
   "outputs": [
    {
     "data": {
      "text/plain": [
       "(93935, 12)"
      ]
     },
     "execution_count": 16,
     "metadata": {},
     "output_type": "execute_result"
    }
   ],
   "source": [
    "df.shape"
   ]
  },
  {
   "cell_type": "code",
   "execution_count": 17,
   "id": "87a22d59",
   "metadata": {},
   "outputs": [
    {
     "data": {
      "text/html": [
       "<div>\n",
       "<style scoped>\n",
       "    .dataframe tbody tr th:only-of-type {\n",
       "        vertical-align: middle;\n",
       "    }\n",
       "\n",
       "    .dataframe tbody tr th {\n",
       "        vertical-align: top;\n",
       "    }\n",
       "\n",
       "    .dataframe thead th {\n",
       "        text-align: right;\n",
       "    }\n",
       "</style>\n",
       "<table border=\"1\" class=\"dataframe\">\n",
       "  <thead>\n",
       "    <tr style=\"text-align: right;\">\n",
       "      <th></th>\n",
       "      <th>Observation</th>\n",
       "      <th>Year</th>\n",
       "      <th>Month</th>\n",
       "      <th>Day</th>\n",
       "      <th>Date</th>\n",
       "      <th>Latitude</th>\n",
       "      <th>Longitude</th>\n",
       "      <th>Zonal Winds</th>\n",
       "      <th>Meridional Winds</th>\n",
       "      <th>Humidity</th>\n",
       "      <th>Air Temp</th>\n",
       "      <th>Sea Surface Temp</th>\n",
       "    </tr>\n",
       "  </thead>\n",
       "  <tbody>\n",
       "    <tr>\n",
       "      <th>4059</th>\n",
       "      <td>4060</td>\n",
       "      <td>93</td>\n",
       "      <td>5</td>\n",
       "      <td>9</td>\n",
       "      <td>930509</td>\n",
       "      <td>-0.02</td>\n",
       "      <td>-109.96</td>\n",
       "      <td>-2.1</td>\n",
       "      <td>2.1</td>\n",
       "      <td>81.2</td>\n",
       "      <td>26.80</td>\n",
       "      <td>27.02</td>\n",
       "    </tr>\n",
       "    <tr>\n",
       "      <th>4060</th>\n",
       "      <td>4061</td>\n",
       "      <td>93</td>\n",
       "      <td>5</td>\n",
       "      <td>10</td>\n",
       "      <td>930510</td>\n",
       "      <td>-0.02</td>\n",
       "      <td>-109.96</td>\n",
       "      <td>-3.4</td>\n",
       "      <td>1.4</td>\n",
       "      <td>84.2</td>\n",
       "      <td>26.95</td>\n",
       "      <td>26.91</td>\n",
       "    </tr>\n",
       "    <tr>\n",
       "      <th>4061</th>\n",
       "      <td>4062</td>\n",
       "      <td>93</td>\n",
       "      <td>5</td>\n",
       "      <td>11</td>\n",
       "      <td>930511</td>\n",
       "      <td>-0.02</td>\n",
       "      <td>-109.96</td>\n",
       "      <td>-3.8</td>\n",
       "      <td>2.2</td>\n",
       "      <td>84.9</td>\n",
       "      <td>26.98</td>\n",
       "      <td>26.78</td>\n",
       "    </tr>\n",
       "    <tr>\n",
       "      <th>4062</th>\n",
       "      <td>4063</td>\n",
       "      <td>93</td>\n",
       "      <td>5</td>\n",
       "      <td>12</td>\n",
       "      <td>930512</td>\n",
       "      <td>-0.02</td>\n",
       "      <td>-109.96</td>\n",
       "      <td>-3.0</td>\n",
       "      <td>1.5</td>\n",
       "      <td>86.9</td>\n",
       "      <td>26.93</td>\n",
       "      <td>26.74</td>\n",
       "    </tr>\n",
       "    <tr>\n",
       "      <th>4063</th>\n",
       "      <td>4064</td>\n",
       "      <td>93</td>\n",
       "      <td>5</td>\n",
       "      <td>13</td>\n",
       "      <td>930513</td>\n",
       "      <td>-0.02</td>\n",
       "      <td>-109.96</td>\n",
       "      <td>-4.5</td>\n",
       "      <td>1.9</td>\n",
       "      <td>87.6</td>\n",
       "      <td>27.01</td>\n",
       "      <td>26.82</td>\n",
       "    </tr>\n",
       "    <tr>\n",
       "      <th>...</th>\n",
       "      <td>...</td>\n",
       "      <td>...</td>\n",
       "      <td>...</td>\n",
       "      <td>...</td>\n",
       "      <td>...</td>\n",
       "      <td>...</td>\n",
       "      <td>...</td>\n",
       "      <td>...</td>\n",
       "      <td>...</td>\n",
       "      <td>...</td>\n",
       "      <td>...</td>\n",
       "      <td>...</td>\n",
       "    </tr>\n",
       "    <tr>\n",
       "      <th>178074</th>\n",
       "      <td>178075</td>\n",
       "      <td>98</td>\n",
       "      <td>6</td>\n",
       "      <td>10</td>\n",
       "      <td>980610</td>\n",
       "      <td>8.95</td>\n",
       "      <td>-140.33</td>\n",
       "      <td>-6.8</td>\n",
       "      <td>-5.3</td>\n",
       "      <td>81.3</td>\n",
       "      <td>27.52</td>\n",
       "      <td>28.17</td>\n",
       "    </tr>\n",
       "    <tr>\n",
       "      <th>178075</th>\n",
       "      <td>178076</td>\n",
       "      <td>98</td>\n",
       "      <td>6</td>\n",
       "      <td>11</td>\n",
       "      <td>980611</td>\n",
       "      <td>8.96</td>\n",
       "      <td>-140.33</td>\n",
       "      <td>-5.1</td>\n",
       "      <td>-0.4</td>\n",
       "      <td>94.1</td>\n",
       "      <td>26.04</td>\n",
       "      <td>28.14</td>\n",
       "    </tr>\n",
       "    <tr>\n",
       "      <th>178076</th>\n",
       "      <td>178077</td>\n",
       "      <td>98</td>\n",
       "      <td>6</td>\n",
       "      <td>12</td>\n",
       "      <td>980612</td>\n",
       "      <td>8.96</td>\n",
       "      <td>-140.32</td>\n",
       "      <td>-4.3</td>\n",
       "      <td>-3.3</td>\n",
       "      <td>93.2</td>\n",
       "      <td>25.80</td>\n",
       "      <td>27.87</td>\n",
       "    </tr>\n",
       "    <tr>\n",
       "      <th>178077</th>\n",
       "      <td>178078</td>\n",
       "      <td>98</td>\n",
       "      <td>6</td>\n",
       "      <td>13</td>\n",
       "      <td>980613</td>\n",
       "      <td>8.95</td>\n",
       "      <td>-140.34</td>\n",
       "      <td>-6.1</td>\n",
       "      <td>-4.8</td>\n",
       "      <td>81.3</td>\n",
       "      <td>27.17</td>\n",
       "      <td>27.93</td>\n",
       "    </tr>\n",
       "    <tr>\n",
       "      <th>178078</th>\n",
       "      <td>178079</td>\n",
       "      <td>98</td>\n",
       "      <td>6</td>\n",
       "      <td>14</td>\n",
       "      <td>980614</td>\n",
       "      <td>8.96</td>\n",
       "      <td>-140.33</td>\n",
       "      <td>-4.9</td>\n",
       "      <td>-2.3</td>\n",
       "      <td>76.2</td>\n",
       "      <td>27.36</td>\n",
       "      <td>28.03</td>\n",
       "    </tr>\n",
       "  </tbody>\n",
       "</table>\n",
       "<p>93935 rows × 12 columns</p>\n",
       "</div>"
      ],
      "text/plain": [
       "        Observation  Year  Month  Day    Date  Latitude  Longitude  \\\n",
       "4059           4060    93      5    9  930509     -0.02    -109.96   \n",
       "4060           4061    93      5   10  930510     -0.02    -109.96   \n",
       "4061           4062    93      5   11  930511     -0.02    -109.96   \n",
       "4062           4063    93      5   12  930512     -0.02    -109.96   \n",
       "4063           4064    93      5   13  930513     -0.02    -109.96   \n",
       "...             ...   ...    ...  ...     ...       ...        ...   \n",
       "178074       178075    98      6   10  980610      8.95    -140.33   \n",
       "178075       178076    98      6   11  980611      8.96    -140.33   \n",
       "178076       178077    98      6   12  980612      8.96    -140.32   \n",
       "178077       178078    98      6   13  980613      8.95    -140.34   \n",
       "178078       178079    98      6   14  980614      8.96    -140.33   \n",
       "\n",
       "        Zonal Winds  Meridional Winds  Humidity  Air Temp  Sea Surface Temp  \n",
       "4059           -2.1               2.1      81.2     26.80             27.02  \n",
       "4060           -3.4               1.4      84.2     26.95             26.91  \n",
       "4061           -3.8               2.2      84.9     26.98             26.78  \n",
       "4062           -3.0               1.5      86.9     26.93             26.74  \n",
       "4063           -4.5               1.9      87.6     27.01             26.82  \n",
       "...             ...               ...       ...       ...               ...  \n",
       "178074         -6.8              -5.3      81.3     27.52             28.17  \n",
       "178075         -5.1              -0.4      94.1     26.04             28.14  \n",
       "178076         -4.3              -3.3      93.2     25.80             27.87  \n",
       "178077         -6.1              -4.8      81.3     27.17             27.93  \n",
       "178078         -4.9              -2.3      76.2     27.36             28.03  \n",
       "\n",
       "[93935 rows x 12 columns]"
      ]
     },
     "execution_count": 17,
     "metadata": {},
     "output_type": "execute_result"
    }
   ],
   "source": [
    " df.drop_duplicates()\n"
   ]
  },
  {
   "cell_type": "code",
   "execution_count": 18,
   "id": "425f7b47",
   "metadata": {},
   "outputs": [
    {
     "data": {
      "text/html": [
       "<div>\n",
       "<style scoped>\n",
       "    .dataframe tbody tr th:only-of-type {\n",
       "        vertical-align: middle;\n",
       "    }\n",
       "\n",
       "    .dataframe tbody tr th {\n",
       "        vertical-align: top;\n",
       "    }\n",
       "\n",
       "    .dataframe thead th {\n",
       "        text-align: right;\n",
       "    }\n",
       "</style>\n",
       "<table border=\"1\" class=\"dataframe\">\n",
       "  <thead>\n",
       "    <tr style=\"text-align: right;\">\n",
       "      <th></th>\n",
       "      <th>Observation</th>\n",
       "      <th>Year</th>\n",
       "      <th>Month</th>\n",
       "      <th>Day</th>\n",
       "      <th>Date</th>\n",
       "      <th>Latitude</th>\n",
       "      <th>Longitude</th>\n",
       "      <th>Zonal Winds</th>\n",
       "      <th>Meridional Winds</th>\n",
       "      <th>Humidity</th>\n",
       "      <th>Air Temp</th>\n",
       "      <th>Sea Surface Temp</th>\n",
       "      <th>combined_date</th>\n",
       "    </tr>\n",
       "  </thead>\n",
       "  <tbody>\n",
       "    <tr>\n",
       "      <th>4059</th>\n",
       "      <td>4060</td>\n",
       "      <td>93</td>\n",
       "      <td>5</td>\n",
       "      <td>9</td>\n",
       "      <td>930509</td>\n",
       "      <td>-0.02</td>\n",
       "      <td>-109.96</td>\n",
       "      <td>-2.1</td>\n",
       "      <td>2.1</td>\n",
       "      <td>81.2</td>\n",
       "      <td>26.80</td>\n",
       "      <td>27.02</td>\n",
       "      <td>1993-05-09</td>\n",
       "    </tr>\n",
       "    <tr>\n",
       "      <th>4060</th>\n",
       "      <td>4061</td>\n",
       "      <td>93</td>\n",
       "      <td>5</td>\n",
       "      <td>10</td>\n",
       "      <td>930510</td>\n",
       "      <td>-0.02</td>\n",
       "      <td>-109.96</td>\n",
       "      <td>-3.4</td>\n",
       "      <td>1.4</td>\n",
       "      <td>84.2</td>\n",
       "      <td>26.95</td>\n",
       "      <td>26.91</td>\n",
       "      <td>1993-05-10</td>\n",
       "    </tr>\n",
       "    <tr>\n",
       "      <th>4061</th>\n",
       "      <td>4062</td>\n",
       "      <td>93</td>\n",
       "      <td>5</td>\n",
       "      <td>11</td>\n",
       "      <td>930511</td>\n",
       "      <td>-0.02</td>\n",
       "      <td>-109.96</td>\n",
       "      <td>-3.8</td>\n",
       "      <td>2.2</td>\n",
       "      <td>84.9</td>\n",
       "      <td>26.98</td>\n",
       "      <td>26.78</td>\n",
       "      <td>1993-05-11</td>\n",
       "    </tr>\n",
       "    <tr>\n",
       "      <th>4062</th>\n",
       "      <td>4063</td>\n",
       "      <td>93</td>\n",
       "      <td>5</td>\n",
       "      <td>12</td>\n",
       "      <td>930512</td>\n",
       "      <td>-0.02</td>\n",
       "      <td>-109.96</td>\n",
       "      <td>-3.0</td>\n",
       "      <td>1.5</td>\n",
       "      <td>86.9</td>\n",
       "      <td>26.93</td>\n",
       "      <td>26.74</td>\n",
       "      <td>1993-05-12</td>\n",
       "    </tr>\n",
       "    <tr>\n",
       "      <th>4063</th>\n",
       "      <td>4064</td>\n",
       "      <td>93</td>\n",
       "      <td>5</td>\n",
       "      <td>13</td>\n",
       "      <td>930513</td>\n",
       "      <td>-0.02</td>\n",
       "      <td>-109.96</td>\n",
       "      <td>-4.5</td>\n",
       "      <td>1.9</td>\n",
       "      <td>87.6</td>\n",
       "      <td>27.01</td>\n",
       "      <td>26.82</td>\n",
       "      <td>1993-05-13</td>\n",
       "    </tr>\n",
       "    <tr>\n",
       "      <th>...</th>\n",
       "      <td>...</td>\n",
       "      <td>...</td>\n",
       "      <td>...</td>\n",
       "      <td>...</td>\n",
       "      <td>...</td>\n",
       "      <td>...</td>\n",
       "      <td>...</td>\n",
       "      <td>...</td>\n",
       "      <td>...</td>\n",
       "      <td>...</td>\n",
       "      <td>...</td>\n",
       "      <td>...</td>\n",
       "      <td>...</td>\n",
       "    </tr>\n",
       "    <tr>\n",
       "      <th>178074</th>\n",
       "      <td>178075</td>\n",
       "      <td>98</td>\n",
       "      <td>6</td>\n",
       "      <td>10</td>\n",
       "      <td>980610</td>\n",
       "      <td>8.95</td>\n",
       "      <td>-140.33</td>\n",
       "      <td>-6.8</td>\n",
       "      <td>-5.3</td>\n",
       "      <td>81.3</td>\n",
       "      <td>27.52</td>\n",
       "      <td>28.17</td>\n",
       "      <td>1998-06-10</td>\n",
       "    </tr>\n",
       "    <tr>\n",
       "      <th>178075</th>\n",
       "      <td>178076</td>\n",
       "      <td>98</td>\n",
       "      <td>6</td>\n",
       "      <td>11</td>\n",
       "      <td>980611</td>\n",
       "      <td>8.96</td>\n",
       "      <td>-140.33</td>\n",
       "      <td>-5.1</td>\n",
       "      <td>-0.4</td>\n",
       "      <td>94.1</td>\n",
       "      <td>26.04</td>\n",
       "      <td>28.14</td>\n",
       "      <td>1998-06-11</td>\n",
       "    </tr>\n",
       "    <tr>\n",
       "      <th>178076</th>\n",
       "      <td>178077</td>\n",
       "      <td>98</td>\n",
       "      <td>6</td>\n",
       "      <td>12</td>\n",
       "      <td>980612</td>\n",
       "      <td>8.96</td>\n",
       "      <td>-140.32</td>\n",
       "      <td>-4.3</td>\n",
       "      <td>-3.3</td>\n",
       "      <td>93.2</td>\n",
       "      <td>25.80</td>\n",
       "      <td>27.87</td>\n",
       "      <td>1998-06-12</td>\n",
       "    </tr>\n",
       "    <tr>\n",
       "      <th>178077</th>\n",
       "      <td>178078</td>\n",
       "      <td>98</td>\n",
       "      <td>6</td>\n",
       "      <td>13</td>\n",
       "      <td>980613</td>\n",
       "      <td>8.95</td>\n",
       "      <td>-140.34</td>\n",
       "      <td>-6.1</td>\n",
       "      <td>-4.8</td>\n",
       "      <td>81.3</td>\n",
       "      <td>27.17</td>\n",
       "      <td>27.93</td>\n",
       "      <td>1998-06-13</td>\n",
       "    </tr>\n",
       "    <tr>\n",
       "      <th>178078</th>\n",
       "      <td>178079</td>\n",
       "      <td>98</td>\n",
       "      <td>6</td>\n",
       "      <td>14</td>\n",
       "      <td>980614</td>\n",
       "      <td>8.96</td>\n",
       "      <td>-140.33</td>\n",
       "      <td>-4.9</td>\n",
       "      <td>-2.3</td>\n",
       "      <td>76.2</td>\n",
       "      <td>27.36</td>\n",
       "      <td>28.03</td>\n",
       "      <td>1998-06-14</td>\n",
       "    </tr>\n",
       "  </tbody>\n",
       "</table>\n",
       "<p>93935 rows × 13 columns</p>\n",
       "</div>"
      ],
      "text/plain": [
       "        Observation  Year  Month  Day    Date  Latitude  Longitude  \\\n",
       "4059           4060    93      5    9  930509     -0.02    -109.96   \n",
       "4060           4061    93      5   10  930510     -0.02    -109.96   \n",
       "4061           4062    93      5   11  930511     -0.02    -109.96   \n",
       "4062           4063    93      5   12  930512     -0.02    -109.96   \n",
       "4063           4064    93      5   13  930513     -0.02    -109.96   \n",
       "...             ...   ...    ...  ...     ...       ...        ...   \n",
       "178074       178075    98      6   10  980610      8.95    -140.33   \n",
       "178075       178076    98      6   11  980611      8.96    -140.33   \n",
       "178076       178077    98      6   12  980612      8.96    -140.32   \n",
       "178077       178078    98      6   13  980613      8.95    -140.34   \n",
       "178078       178079    98      6   14  980614      8.96    -140.33   \n",
       "\n",
       "        Zonal Winds  Meridional Winds  Humidity  Air Temp  Sea Surface Temp  \\\n",
       "4059           -2.1               2.1      81.2     26.80             27.02   \n",
       "4060           -3.4               1.4      84.2     26.95             26.91   \n",
       "4061           -3.8               2.2      84.9     26.98             26.78   \n",
       "4062           -3.0               1.5      86.9     26.93             26.74   \n",
       "4063           -4.5               1.9      87.6     27.01             26.82   \n",
       "...             ...               ...       ...       ...               ...   \n",
       "178074         -6.8              -5.3      81.3     27.52             28.17   \n",
       "178075         -5.1              -0.4      94.1     26.04             28.14   \n",
       "178076         -4.3              -3.3      93.2     25.80             27.87   \n",
       "178077         -6.1              -4.8      81.3     27.17             27.93   \n",
       "178078         -4.9              -2.3      76.2     27.36             28.03   \n",
       "\n",
       "       combined_date  \n",
       "4059      1993-05-09  \n",
       "4060      1993-05-10  \n",
       "4061      1993-05-11  \n",
       "4062      1993-05-12  \n",
       "4063      1993-05-13  \n",
       "...              ...  \n",
       "178074    1998-06-10  \n",
       "178075    1998-06-11  \n",
       "178076    1998-06-12  \n",
       "178077    1998-06-13  \n",
       "178078    1998-06-14  \n",
       "\n",
       "[93935 rows x 13 columns]"
      ]
     },
     "execution_count": 18,
     "metadata": {},
     "output_type": "execute_result"
    }
   ],
   "source": [
    "import pandas as pd\n",
    "\n",
    "# Assuming df is your DataFrame\n",
    "# Create a temporary column with the combined string format of the date\n",
    "df['combined_date_str'] = df['Year'].astype(str) + df['Month'].astype(str).str.zfill(2) + df['Day'].astype(str).str.zfill(2)\n",
    "\n",
    "# Convert the combined string date to a datetime object\n",
    "df['combined_date'] = pd.to_datetime(df['combined_date_str'], format='%y%m%d')\n",
    "\n",
    "# Drop the temporary column\n",
    "df = df.drop('combined_date_str', axis=1)\n",
    "\n",
    "\n",
    "\n",
    "df"
   ]
  },
  {
   "cell_type": "code",
   "execution_count": 19,
   "id": "5ce341cc",
   "metadata": {},
   "outputs": [
    {
     "data": {
      "text/html": [
       "<div>\n",
       "<style scoped>\n",
       "    .dataframe tbody tr th:only-of-type {\n",
       "        vertical-align: middle;\n",
       "    }\n",
       "\n",
       "    .dataframe tbody tr th {\n",
       "        vertical-align: top;\n",
       "    }\n",
       "\n",
       "    .dataframe thead th {\n",
       "        text-align: right;\n",
       "    }\n",
       "</style>\n",
       "<table border=\"1\" class=\"dataframe\">\n",
       "  <thead>\n",
       "    <tr style=\"text-align: right;\">\n",
       "      <th></th>\n",
       "      <th>Observation</th>\n",
       "      <th>Year</th>\n",
       "      <th>Month</th>\n",
       "      <th>Day</th>\n",
       "      <th>Date</th>\n",
       "      <th>Latitude</th>\n",
       "      <th>Longitude</th>\n",
       "      <th>Zonal Winds</th>\n",
       "      <th>Meridional Winds</th>\n",
       "      <th>Humidity</th>\n",
       "      <th>Air Temp</th>\n",
       "      <th>Sea Surface Temp</th>\n",
       "    </tr>\n",
       "    <tr>\n",
       "      <th>combined_date</th>\n",
       "      <th></th>\n",
       "      <th></th>\n",
       "      <th></th>\n",
       "      <th></th>\n",
       "      <th></th>\n",
       "      <th></th>\n",
       "      <th></th>\n",
       "      <th></th>\n",
       "      <th></th>\n",
       "      <th></th>\n",
       "      <th></th>\n",
       "      <th></th>\n",
       "    </tr>\n",
       "  </thead>\n",
       "  <tbody>\n",
       "    <tr>\n",
       "      <th>1993-05-09</th>\n",
       "      <td>4060</td>\n",
       "      <td>93</td>\n",
       "      <td>5</td>\n",
       "      <td>9</td>\n",
       "      <td>930509</td>\n",
       "      <td>-0.02</td>\n",
       "      <td>-109.96</td>\n",
       "      <td>-2.1</td>\n",
       "      <td>2.1</td>\n",
       "      <td>81.2</td>\n",
       "      <td>26.80</td>\n",
       "      <td>27.02</td>\n",
       "    </tr>\n",
       "    <tr>\n",
       "      <th>1993-05-10</th>\n",
       "      <td>4061</td>\n",
       "      <td>93</td>\n",
       "      <td>5</td>\n",
       "      <td>10</td>\n",
       "      <td>930510</td>\n",
       "      <td>-0.02</td>\n",
       "      <td>-109.96</td>\n",
       "      <td>-3.4</td>\n",
       "      <td>1.4</td>\n",
       "      <td>84.2</td>\n",
       "      <td>26.95</td>\n",
       "      <td>26.91</td>\n",
       "    </tr>\n",
       "    <tr>\n",
       "      <th>1993-05-11</th>\n",
       "      <td>4062</td>\n",
       "      <td>93</td>\n",
       "      <td>5</td>\n",
       "      <td>11</td>\n",
       "      <td>930511</td>\n",
       "      <td>-0.02</td>\n",
       "      <td>-109.96</td>\n",
       "      <td>-3.8</td>\n",
       "      <td>2.2</td>\n",
       "      <td>84.9</td>\n",
       "      <td>26.98</td>\n",
       "      <td>26.78</td>\n",
       "    </tr>\n",
       "    <tr>\n",
       "      <th>1993-05-12</th>\n",
       "      <td>4063</td>\n",
       "      <td>93</td>\n",
       "      <td>5</td>\n",
       "      <td>12</td>\n",
       "      <td>930512</td>\n",
       "      <td>-0.02</td>\n",
       "      <td>-109.96</td>\n",
       "      <td>-3.0</td>\n",
       "      <td>1.5</td>\n",
       "      <td>86.9</td>\n",
       "      <td>26.93</td>\n",
       "      <td>26.74</td>\n",
       "    </tr>\n",
       "    <tr>\n",
       "      <th>1993-05-13</th>\n",
       "      <td>4064</td>\n",
       "      <td>93</td>\n",
       "      <td>5</td>\n",
       "      <td>13</td>\n",
       "      <td>930513</td>\n",
       "      <td>-0.02</td>\n",
       "      <td>-109.96</td>\n",
       "      <td>-4.5</td>\n",
       "      <td>1.9</td>\n",
       "      <td>87.6</td>\n",
       "      <td>27.01</td>\n",
       "      <td>26.82</td>\n",
       "    </tr>\n",
       "    <tr>\n",
       "      <th>...</th>\n",
       "      <td>...</td>\n",
       "      <td>...</td>\n",
       "      <td>...</td>\n",
       "      <td>...</td>\n",
       "      <td>...</td>\n",
       "      <td>...</td>\n",
       "      <td>...</td>\n",
       "      <td>...</td>\n",
       "      <td>...</td>\n",
       "      <td>...</td>\n",
       "      <td>...</td>\n",
       "      <td>...</td>\n",
       "    </tr>\n",
       "    <tr>\n",
       "      <th>1998-06-10</th>\n",
       "      <td>178075</td>\n",
       "      <td>98</td>\n",
       "      <td>6</td>\n",
       "      <td>10</td>\n",
       "      <td>980610</td>\n",
       "      <td>8.95</td>\n",
       "      <td>-140.33</td>\n",
       "      <td>-6.8</td>\n",
       "      <td>-5.3</td>\n",
       "      <td>81.3</td>\n",
       "      <td>27.52</td>\n",
       "      <td>28.17</td>\n",
       "    </tr>\n",
       "    <tr>\n",
       "      <th>1998-06-11</th>\n",
       "      <td>178076</td>\n",
       "      <td>98</td>\n",
       "      <td>6</td>\n",
       "      <td>11</td>\n",
       "      <td>980611</td>\n",
       "      <td>8.96</td>\n",
       "      <td>-140.33</td>\n",
       "      <td>-5.1</td>\n",
       "      <td>-0.4</td>\n",
       "      <td>94.1</td>\n",
       "      <td>26.04</td>\n",
       "      <td>28.14</td>\n",
       "    </tr>\n",
       "    <tr>\n",
       "      <th>1998-06-12</th>\n",
       "      <td>178077</td>\n",
       "      <td>98</td>\n",
       "      <td>6</td>\n",
       "      <td>12</td>\n",
       "      <td>980612</td>\n",
       "      <td>8.96</td>\n",
       "      <td>-140.32</td>\n",
       "      <td>-4.3</td>\n",
       "      <td>-3.3</td>\n",
       "      <td>93.2</td>\n",
       "      <td>25.80</td>\n",
       "      <td>27.87</td>\n",
       "    </tr>\n",
       "    <tr>\n",
       "      <th>1998-06-13</th>\n",
       "      <td>178078</td>\n",
       "      <td>98</td>\n",
       "      <td>6</td>\n",
       "      <td>13</td>\n",
       "      <td>980613</td>\n",
       "      <td>8.95</td>\n",
       "      <td>-140.34</td>\n",
       "      <td>-6.1</td>\n",
       "      <td>-4.8</td>\n",
       "      <td>81.3</td>\n",
       "      <td>27.17</td>\n",
       "      <td>27.93</td>\n",
       "    </tr>\n",
       "    <tr>\n",
       "      <th>1998-06-14</th>\n",
       "      <td>178079</td>\n",
       "      <td>98</td>\n",
       "      <td>6</td>\n",
       "      <td>14</td>\n",
       "      <td>980614</td>\n",
       "      <td>8.96</td>\n",
       "      <td>-140.33</td>\n",
       "      <td>-4.9</td>\n",
       "      <td>-2.3</td>\n",
       "      <td>76.2</td>\n",
       "      <td>27.36</td>\n",
       "      <td>28.03</td>\n",
       "    </tr>\n",
       "  </tbody>\n",
       "</table>\n",
       "<p>93935 rows × 12 columns</p>\n",
       "</div>"
      ],
      "text/plain": [
       "               Observation  Year  Month  Day    Date  Latitude  Longitude  \\\n",
       "combined_date                                                               \n",
       "1993-05-09            4060    93      5    9  930509     -0.02    -109.96   \n",
       "1993-05-10            4061    93      5   10  930510     -0.02    -109.96   \n",
       "1993-05-11            4062    93      5   11  930511     -0.02    -109.96   \n",
       "1993-05-12            4063    93      5   12  930512     -0.02    -109.96   \n",
       "1993-05-13            4064    93      5   13  930513     -0.02    -109.96   \n",
       "...                    ...   ...    ...  ...     ...       ...        ...   \n",
       "1998-06-10          178075    98      6   10  980610      8.95    -140.33   \n",
       "1998-06-11          178076    98      6   11  980611      8.96    -140.33   \n",
       "1998-06-12          178077    98      6   12  980612      8.96    -140.32   \n",
       "1998-06-13          178078    98      6   13  980613      8.95    -140.34   \n",
       "1998-06-14          178079    98      6   14  980614      8.96    -140.33   \n",
       "\n",
       "               Zonal Winds  Meridional Winds  Humidity  Air Temp  \\\n",
       "combined_date                                                      \n",
       "1993-05-09            -2.1               2.1      81.2     26.80   \n",
       "1993-05-10            -3.4               1.4      84.2     26.95   \n",
       "1993-05-11            -3.8               2.2      84.9     26.98   \n",
       "1993-05-12            -3.0               1.5      86.9     26.93   \n",
       "1993-05-13            -4.5               1.9      87.6     27.01   \n",
       "...                    ...               ...       ...       ...   \n",
       "1998-06-10            -6.8              -5.3      81.3     27.52   \n",
       "1998-06-11            -5.1              -0.4      94.1     26.04   \n",
       "1998-06-12            -4.3              -3.3      93.2     25.80   \n",
       "1998-06-13            -6.1              -4.8      81.3     27.17   \n",
       "1998-06-14            -4.9              -2.3      76.2     27.36   \n",
       "\n",
       "               Sea Surface Temp  \n",
       "combined_date                    \n",
       "1993-05-09                27.02  \n",
       "1993-05-10                26.91  \n",
       "1993-05-11                26.78  \n",
       "1993-05-12                26.74  \n",
       "1993-05-13                26.82  \n",
       "...                         ...  \n",
       "1998-06-10                28.17  \n",
       "1998-06-11                28.14  \n",
       "1998-06-12                27.87  \n",
       "1998-06-13                27.93  \n",
       "1998-06-14                28.03  \n",
       "\n",
       "[93935 rows x 12 columns]"
      ]
     },
     "execution_count": 19,
     "metadata": {},
     "output_type": "execute_result"
    }
   ],
   "source": [
    "df.set_index('combined_date', inplace=True)\n",
    "df"
   ]
  },
  {
   "cell_type": "code",
   "execution_count": 20,
   "id": "d062dd6c",
   "metadata": {},
   "outputs": [],
   "source": [
    "X = df.drop(columns=['Sea Surface Temp'])\n",
    "y = df['Sea Surface Temp']"
   ]
  },
  {
   "cell_type": "code",
   "execution_count": 21,
   "id": "5848e342",
   "metadata": {},
   "outputs": [],
   "source": [
    "from sklearn.model_selection import train_test_split\n"
   ]
  },
  {
   "cell_type": "code",
   "execution_count": 22,
   "id": "fdacd8b5",
   "metadata": {},
   "outputs": [],
   "source": [
    "X_train, X_test, y_train, y_test = train_test_split(X, y, test_size=0.2, random_state=42)\n"
   ]
  },
  {
   "cell_type": "code",
   "execution_count": 23,
   "id": "c928dbc0",
   "metadata": {},
   "outputs": [
    {
     "data": {
      "text/plain": [
       "(75148, 11)"
      ]
     },
     "execution_count": 23,
     "metadata": {},
     "output_type": "execute_result"
    }
   ],
   "source": [
    "X_train.shape"
   ]
  },
  {
   "cell_type": "code",
   "execution_count": 24,
   "id": "ecfe5f09",
   "metadata": {},
   "outputs": [
    {
     "data": {
      "text/plain": [
       "(18787, 11)"
      ]
     },
     "execution_count": 24,
     "metadata": {},
     "output_type": "execute_result"
    }
   ],
   "source": [
    "X_test.shape"
   ]
  },
  {
   "cell_type": "code",
   "execution_count": 25,
   "id": "2fd0e4a1",
   "metadata": {},
   "outputs": [
    {
     "data": {
      "text/plain": [
       "(75148,)"
      ]
     },
     "execution_count": 25,
     "metadata": {},
     "output_type": "execute_result"
    }
   ],
   "source": [
    "y_train.shape"
   ]
  },
  {
   "cell_type": "code",
   "execution_count": 26,
   "id": "94737fc6",
   "metadata": {},
   "outputs": [
    {
     "data": {
      "text/plain": [
       "(18787,)"
      ]
     },
     "execution_count": 26,
     "metadata": {},
     "output_type": "execute_result"
    }
   ],
   "source": [
    "y_test.shape"
   ]
  },
  {
   "cell_type": "code",
   "execution_count": 27,
   "id": "3e99073b",
   "metadata": {},
   "outputs": [],
   "source": [
    "from sklearn.linear_model import LinearRegression\n"
   ]
  },
  {
   "cell_type": "code",
   "execution_count": 28,
   "id": "68d83298",
   "metadata": {},
   "outputs": [],
   "source": [
    "model = LinearRegression()\n"
   ]
  },
  {
   "cell_type": "code",
   "execution_count": 29,
   "id": "05914a54",
   "metadata": {},
   "outputs": [
    {
     "data": {
      "text/plain": [
       "LinearRegression()"
      ]
     },
     "execution_count": 29,
     "metadata": {},
     "output_type": "execute_result"
    }
   ],
   "source": [
    "model.fit(X_train, y_train)\n"
   ]
  },
  {
   "cell_type": "code",
   "execution_count": 30,
   "id": "86bc87c3",
   "metadata": {},
   "outputs": [
    {
     "data": {
      "text/plain": [
       "array([27.76136057, 22.30956986, 24.40881777, ..., 29.59986437,\n",
       "       27.96437824, 25.05983584])"
      ]
     },
     "execution_count": 30,
     "metadata": {},
     "output_type": "execute_result"
    }
   ],
   "source": [
    "y_pred = model.predict(X_test)\n",
    "y_pred"
   ]
  },
  {
   "cell_type": "code",
   "execution_count": 31,
   "id": "711c64ca",
   "metadata": {},
   "outputs": [],
   "source": [
    "from sklearn.metrics import mean_squared_error\n"
   ]
  },
  {
   "cell_type": "code",
   "execution_count": 32,
   "id": "b6e3f3be",
   "metadata": {},
   "outputs": [
    {
     "name": "stdout",
     "output_type": "stream",
     "text": [
      "Mean Squared Error: 0.30357446408636407\n"
     ]
    }
   ],
   "source": [
    "mse = mean_squared_error(y_test, y_pred)\n",
    "print(f'Mean Squared Error: {mse}')"
   ]
  },
  {
   "cell_type": "code",
   "execution_count": 33,
   "id": "77f2a6cd",
   "metadata": {},
   "outputs": [
    {
     "name": "stdout",
     "output_type": "stream",
     "text": [
      "R-squared: 0.9136331689897347\n"
     ]
    }
   ],
   "source": [
    "from sklearn.metrics import r2_score\n",
    "\n",
    "r2 = r2_score(y_test, y_pred)\n",
    "print(f'R-squared: {r2}')"
   ]
  },
  {
   "cell_type": "code",
   "execution_count": 34,
   "id": "2b31dbc0",
   "metadata": {},
   "outputs": [
    {
     "name": "stdout",
     "output_type": "stream",
     "text": [
      "Mean Absolute Error: 0.4183612450613975\n"
     ]
    }
   ],
   "source": [
    "from sklearn.metrics import mean_absolute_error\n",
    "\n",
    "mae = mean_absolute_error(y_test, y_pred)\n",
    "print(f'Mean Absolute Error: {mae}')"
   ]
  },
  {
   "cell_type": "code",
   "execution_count": 35,
   "id": "bcd94907",
   "metadata": {},
   "outputs": [
    {
     "name": "stdout",
     "output_type": "stream",
     "text": [
      "Root Mean Squared Error: 0.5509759196973713\n"
     ]
    }
   ],
   "source": [
    "import numpy as np\n",
    "rmse = np.sqrt(mse)\n",
    "print(f'Root Mean Squared Error: {rmse}')"
   ]
  },
  {
   "cell_type": "code",
   "execution_count": 36,
   "id": "45f0ce96",
   "metadata": {},
   "outputs": [
    {
     "name": "stdout",
     "output_type": "stream",
     "text": [
      "Explained Variance Score: 0.9136418741424697\n"
     ]
    }
   ],
   "source": [
    "from sklearn.metrics import explained_variance_score\n",
    "\n",
    "evs = explained_variance_score(y_test, y_pred)\n",
    "print(f'Explained Variance Score: {evs}')\n"
   ]
  },
  {
   "cell_type": "code",
   "execution_count": 37,
   "id": "186c0ff6",
   "metadata": {},
   "outputs": [
    {
     "name": "stdout",
     "output_type": "stream",
     "text": [
      "Mean Squared Logarithmic Error: 0.00037569554569477783\n"
     ]
    }
   ],
   "source": [
    "from sklearn.metrics import mean_squared_log_error\n",
    "\n",
    "msle = mean_squared_log_error(y_test, y_pred)\n",
    "print(f'Mean Squared Logarithmic Error: {msle}')\n"
   ]
  },
  {
   "cell_type": "code",
   "execution_count": 38,
   "id": "62e39cf7",
   "metadata": {},
   "outputs": [
    {
     "data": {
      "image/png": "[encoded data removed]",
      "text/plain": [
       "<Figure size 640x480 with 1 Axes>"
      ]
     },
     "metadata": {},
     "output_type": "display_data"
    }
   ],
   "source": [
    "import matplotlib.pyplot as plt\n",
    "\n",
    "# Scatter plot of actual vs. predicted values with a dotted line\n",
    "plt.scatter(y_test, y_pred, color='orange', label='Actual vs. Predicted')\n",
    "plt.plot([min(y_test), max(y_test)], [min(y_test), max(y_test)], linestyle='--', color='blue', label='Perfect Prediction')\n",
    "\n",
    "plt.xlabel(\"Actual Sea Surface Temp\")\n",
    "plt.ylabel(\"Predicted Sea Surface Temp\")\n",
    "plt.title(\"Actual vs. Predicted Sea Surface Temperature\")\n",
    "plt.legend()\n",
    "plt.show()\n"
   ]
  },
  {
   "cell_type": "code",
   "execution_count": 39,
   "id": "2f33a19e",
   "metadata": {},
   "outputs": [
    {
     "data": {
      "image/png": "[encoded data removed]",
      "text/plain": [
       "<Figure size 640x480 with 2 Axes>"
      ]
     },
     "metadata": {},
     "output_type": "display_data"
    }
   ],
   "source": [
    "import seaborn as sns\n",
    "\n",
    "# Assuming df is your DataFrame\n",
    "correlation_matrix = df.corr()\n",
    "sns.heatmap(correlation_matrix, annot=True, cmap='coolwarm', fmt=\".2f\")\n",
    "plt.title('Correlation Heatmap')\n",
    "plt.show()\n"
   ]
  },
  {
   "cell_type": "markdown",
   "id": "de4f3d66",
   "metadata": {},
   "source": [
    "sns.displot(df['Sea Surface Temp'], kde=True, bins=20, color='blue')\n",
    "plt.title('Distribution of Sea Surface Temperature')\n",
    "plt.show()\n"
   ]
  },
  {
   "cell_type": "markdown",
   "id": "140bf980",
   "metadata": {},
   "source": [
    "sns.boxplot(x='Month', y='Sea Surface Temp', data=df)\n",
    "plt.title('Sea Surface Temperature Across Months')\n",
    "plt.show()"
   ]
  },
  {
   "cell_type": "markdown",
   "id": "be6243ba",
   "metadata": {},
   "source": [
    "residuals = y_test - y_pred\n",
    "plt.scatter(y_pred, residuals)\n",
    "plt.xlabel('Predicted Values')\n",
    "plt.ylabel('Residuals')\n",
    "plt.title('Residual Plot')\n",
    "plt.axhline(y=0, color='r', linestyle='--')\n",
    "plt.show()\n"
   ]
  },
  {
   "cell_type": "code",
   "execution_count": 43,
   "id": "69490d82",
   "metadata": {},
   "outputs": [
    {
     "ename": "NameError",
     "evalue": "name 'make_pipeline' is not defined",
     "output_type": "error",
     "traceback": [
      "\u001b[1;31m---------------------------------------------------------------------------\u001b[0m",
      "\u001b[1;31mNameError\u001b[0m                                 Traceback (most recent call last)",
      "\u001b[1;32m~\\AppData\\Local\\Temp\\ipykernel_34384\\1790270533.py\u001b[0m in \u001b[0;36m<module>\u001b[1;34m\u001b[0m\n\u001b[0;32m     19\u001b[0m \u001b[1;33m\u001b[0m\u001b[0m\n\u001b[0;32m     20\u001b[0m \u001b[1;31m# Create a pipeline with PolynomialFeatures and LinearRegression\u001b[0m\u001b[1;33m\u001b[0m\u001b[1;33m\u001b[0m\u001b[0m\n\u001b[1;32m---> 21\u001b[1;33m \u001b[0mpolyreg_model\u001b[0m \u001b[1;33m=\u001b[0m \u001b[0mmake_pipeline\u001b[0m\u001b[1;33m(\u001b[0m\u001b[0mPolynomialFeatures\u001b[0m\u001b[1;33m(\u001b[0m\u001b[1;33m)\u001b[0m\u001b[1;33m,\u001b[0m \u001b[0mLinearRegression\u001b[0m\u001b[1;33m(\u001b[0m\u001b[1;33m)\u001b[0m\u001b[1;33m)\u001b[0m\u001b[1;33m\u001b[0m\u001b[1;33m\u001b[0m\u001b[0m\n\u001b[0m\u001b[0;32m     22\u001b[0m \u001b[1;33m\u001b[0m\u001b[0m\n\u001b[0;32m     23\u001b[0m \u001b[1;31m# Use GridSearchCV to search for the best degree\u001b[0m\u001b[1;33m\u001b[0m\u001b[1;33m\u001b[0m\u001b[0m\n",
      "\u001b[1;31mNameError\u001b[0m: name 'make_pipeline' is not defined"
     ]
    }
   ],
   "source": []
  },
  {
   "cell_type": "code",
   "execution_count": 46,
   "id": "547c62b3",
   "metadata": {},
   "outputs": [
    {
     "name": "stdout",
     "output_type": "stream",
     "text": [
      "Polynomial Regression (Degree 4) - Validation Set Metrics:\n",
      "Mean Squared Error: 0.22121026023523346\n",
      "R-squared: 0.9378914093275385\n",
      "Mean Absolute Error: 0.35633874769559676\n",
      "\n",
      "Polynomial Regression (Degree 4) - Test Set Metrics:\n",
      "Mean Squared Error: 0.22012731597514482\n",
      "R-squared: 0.937162782445002\n",
      "Mean Absolute Error: 0.3536074867238823\n"
     ]
    }
   ],
   "source": [
    "from sklearn.pipeline import make_pipeline\n",
    "from sklearn.model_selection import train_test_split\n",
    "from sklearn.model_selection import GridSearchCV\n",
    "from sklearn.preprocessing import PolynomialFeatures\n",
    "from sklearn.linear_model import LinearRegression\n",
    "from sklearn.metrics import mean_squared_error, r2_score, mean_absolute_error\n",
    "\n",
    "# Select the top features based on the correlation matrix\n",
    "top_features = ['Zonal Winds', 'Meridional Winds', 'Humidity', 'Air Temp']\n",
    "\n",
    "# Extract the selected features\n",
    "X_poly = X[top_features]\n",
    "\n",
    "# Split the data into training, validation, and testing sets\n",
    "X_train, X_temp, y_train, y_temp = train_test_split(X_poly, y, test_size=0.3, random_state=42)\n",
    "X_val, X_test, y_val, y_test = train_test_split(X_temp, y_temp, test_size=0.5, random_state=42)\n",
    "\n",
    "# Define a range of degrees to try\n",
    "degrees_to_try = [2, 3, 4]\n",
    "\n",
    "# Create a pipeline with PolynomialFeatures and LinearRegression\n",
    "polyreg_model = make_pipeline(PolynomialFeatures(), LinearRegression())\n",
    "\n",
    "# Use GridSearchCV to search for the best degree\n",
    "param_grid = {'polynomialfeatures__degree': degrees_to_try}\n",
    "grid = GridSearchCV(polyreg_model, param_grid, cv=5, scoring='neg_mean_squared_error')\n",
    "grid.fit(X_train, y_train)\n",
    "\n",
    "# Get the best degree from the grid search\n",
    "best_degree = grid.best_params_['polynomialfeatures__degree']\n",
    "\n",
    "# Create the final polynomial regression model with the best degree\n",
    "final_polyreg_model = make_pipeline(PolynomialFeatures(degree=best_degree), LinearRegression())\n",
    "\n",
    "# Fit the final model to the training data\n",
    "final_polyreg_model.fit(X_train, y_train)\n",
    "\n",
    "# Make predictions on the validation set\n",
    "y_val_pred = final_polyreg_model.predict(X_val)\n",
    "\n",
    "# Make predictions on the test set\n",
    "y_test_pred = final_polyreg_model.predict(X_test)\n",
    "\n",
    "# Evaluate the performance on the validation set\n",
    "mse_val = mean_squared_error(y_val, y_val_pred)\n",
    "r2_val = r2_score(y_val, y_val_pred)\n",
    "mae_val = mean_absolute_error(y_val, y_val_pred)\n",
    "\n",
    "# Evaluate the performance on the test set\n",
    "mse_test = mean_squared_error(y_test, y_test_pred)\n",
    "r2_test = r2_score(y_test, y_test_pred)\n",
    "mae_test = mean_absolute_error(y_test, y_test_pred)\n",
    "\n",
    "# Print the evaluation metrics\n",
    "print(f'Polynomial Regression (Degree {best_degree}) - Validation Set Metrics:')\n",
    "print(f'Mean Squared Error: {mse_val}')\n",
    "print(f'R-squared: {r2_val}')\n",
    "print(f'Mean Absolute Error: {mae_val}')\n",
    "\n",
    "print(f'\\nPolynomial Regression (Degree {best_degree}) - Test Set Metrics:')\n",
    "print(f'Mean Squared Error: {mse_test}')\n",
    "print(f'R-squared: {r2_test}')\n",
    "print(f'Mean Absolute Error: {mae_test}')\n"
   ]
  },
  {
   "cell_type": "code",
   "execution_count": 47,
   "id": "eadc0351",
   "metadata": {},
   "outputs": [
    {
     "data": {
      "image/png": "[encoded data removed]",
      "text/plain": [
       "<Figure size 640x480 with 1 Axes>"
      ]
     },
     "metadata": {},
     "output_type": "display_data"
    }
   ],
   "source": [
    "import matplotlib.pyplot as plt\n",
    "\n",
    "# Scatter plot of actual vs. predicted values on the validation set\n",
    "plt.scatter(y_val, y_val_pred, color='orange', label='Validation Set', alpha=0.7)\n",
    "# Scatter plot of actual vs. predicted values on the test set with reduced opacity\n",
    "plt.scatter(y_test, y_test_pred, color='blue', label='Test Set', alpha=0.5)\n",
    "# Scatter plot of the 45-degree line for perfect predictions\n",
    "plt.plot([min(y_test), max(y_test)], [min(y_test), max(y_test)], linestyle='--', color='red', label='Perfect Prediction')\n",
    "\n",
    "plt.xlabel(\"Actual Sea Surface Temp\")\n",
    "plt.ylabel(\"Predicted Sea Surface Temp\")\n",
    "plt.title(\"Actual vs. Predicted Sea Surface Temperature on Validation and Test Sets\")\n",
    "plt.legend()\n",
    "plt.show()\n"
   ]
  },
  {
   "cell_type": "code",
   "execution_count": 45,
   "id": "2eed95d8",
   "metadata": {},
   "outputs": [
    {
     "ename": "NameError",
     "evalue": "name 'y_val_pred' is not defined",
     "output_type": "error",
     "traceback": [
      "\u001b[1;31m---------------------------------------------------------------------------\u001b[0m",
      "\u001b[1;31mNameError\u001b[0m                                 Traceback (most recent call last)",
      "\u001b[1;32m~\\AppData\\Local\\Temp\\ipykernel_34384\\243078515.py\u001b[0m in \u001b[0;36m<module>\u001b[1;34m\u001b[0m\n\u001b[0;32m      2\u001b[0m \u001b[1;33m\u001b[0m\u001b[0m\n\u001b[0;32m      3\u001b[0m \u001b[1;31m# Scatter plot of actual vs. predicted values on the validation set\u001b[0m\u001b[1;33m\u001b[0m\u001b[1;33m\u001b[0m\u001b[0m\n\u001b[1;32m----> 4\u001b[1;33m \u001b[0mplt\u001b[0m\u001b[1;33m.\u001b[0m\u001b[0mscatter\u001b[0m\u001b[1;33m(\u001b[0m\u001b[0my_val\u001b[0m\u001b[1;33m,\u001b[0m \u001b[0my_val_pred\u001b[0m\u001b[1;33m,\u001b[0m \u001b[0mcolor\u001b[0m\u001b[1;33m=\u001b[0m\u001b[1;34m'orange'\u001b[0m\u001b[1;33m,\u001b[0m \u001b[0mlabel\u001b[0m\u001b[1;33m=\u001b[0m\u001b[1;34m'Validation Set'\u001b[0m\u001b[1;33m,\u001b[0m \u001b[0malpha\u001b[0m\u001b[1;33m=\u001b[0m\u001b[1;36m0.7\u001b[0m\u001b[1;33m)\u001b[0m\u001b[1;33m\u001b[0m\u001b[1;33m\u001b[0m\u001b[0m\n\u001b[0m\u001b[0;32m      5\u001b[0m \u001b[1;31m# Scatter plot of actual vs. predicted values on the test set with reduced opacity\u001b[0m\u001b[1;33m\u001b[0m\u001b[1;33m\u001b[0m\u001b[0m\n\u001b[0;32m      6\u001b[0m \u001b[0mplt\u001b[0m\u001b[1;33m.\u001b[0m\u001b[0mscatter\u001b[0m\u001b[1;33m(\u001b[0m\u001b[0my_test\u001b[0m\u001b[1;33m,\u001b[0m \u001b[0my_test_pred\u001b[0m\u001b[1;33m,\u001b[0m \u001b[0mcolor\u001b[0m\u001b[1;33m=\u001b[0m\u001b[1;34m'blue'\u001b[0m\u001b[1;33m,\u001b[0m \u001b[0mlabel\u001b[0m\u001b[1;33m=\u001b[0m\u001b[1;34m'Test Set'\u001b[0m\u001b[1;33m,\u001b[0m \u001b[0malpha\u001b[0m\u001b[1;33m=\u001b[0m\u001b[1;36m0.5\u001b[0m\u001b[1;33m)\u001b[0m\u001b[1;33m\u001b[0m\u001b[1;33m\u001b[0m\u001b[0m\n",
      "\u001b[1;31mNameError\u001b[0m: name 'y_val_pred' is not defined"
     ]
    }
   ],
   "source": [
    "import matplotlib.pyplot as plt\n",
    "\n",
    "# Scatter plot of actual vs. predicted values on the validation set\n",
    "plt.scatter(y_val, y_val_pred, color='orange', label='Validation Set', alpha=0.7)\n",
    "# Scatter plot of actual vs. predicted values on the test set with reduced opacity\n",
    "plt.scatter(y_test, y_test_pred, color='blue', label='Test Set', alpha=0.5)\n",
    "# Scatter plot of the 45-degree line for perfect predictions\n",
    "plt.plot([min(y_test), max(y_test)], [min(y_test), max(y_test)], linestyle='--', color='red', label='Perfect Prediction')\n",
    "\n",
    "plt.xlabel(\"Actual Sea Surface Temp\")\n",
    "plt.ylabel(\"Predicted Sea Surface Temp\")\n",
    "plt.title(\"Actual vs. Predicted Sea Surface Temperature on Validation and Test Sets\")\n",
    "plt.legend()\n",
    "plt.show()"
   ]
  },
  {
   "cell_type": "code",
   "execution_count": null,
   "id": "9632a978",
   "metadata": {},
   "outputs": [],
   "source": []
  },
  {
   "cell_type": "code",
   "execution_count": null,
   "id": "4e6a5d36",
   "metadata": {},
   "outputs": [],
   "source": []
  }
 ],
 "metadata": {
  "kernelspec": {
   "display_name": "Python 3 (ipykernel)",
   "language": "python",
   "name": "python3"
  },
  "language_info": {
   "codemirror_mode": {
    "name": "ipython",
    "version": 3
   },
   "file_extension": ".py",
   "mimetype": "text/x-python",
   "name": "python",
   "nbconvert_exporter": "python",
   "pygments_lexer": "ipython3",
   "version": "3.9.13"
  }
 },
 "nbformat": 4,
 "nbformat_minor": 5
}
